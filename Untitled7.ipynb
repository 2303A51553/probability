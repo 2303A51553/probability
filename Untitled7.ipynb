{
  "nbformat": 4,
  "nbformat_minor": 0,
  "metadata": {
    "colab": {
      "provenance": [],
      "authorship_tag": "ABX9TyOKk9vWsjzB97cRWhnk3UlO",
      "include_colab_link": true
    },
    "kernelspec": {
      "name": "python3",
      "display_name": "Python 3"
    },
    "language_info": {
      "name": "python"
    }
  },
  "cells": [
    {
      "cell_type": "markdown",
      "metadata": {
        "id": "view-in-github",
        "colab_type": "text"
      },
      "source": [
        "<a href=\"https://colab.research.google.com/github/2303A51553/probability/blob/main/Untitled7.ipynb\" target=\"_parent\"><img src=\"https://colab.research.google.com/assets/colab-badge.svg\" alt=\"Open In Colab\"/></a>"
      ]
    },
    {
      "cell_type": "markdown",
      "source": [
        "#lab -09"
      ],
      "metadata": {
        "id": "tmfRV1lxcily"
      }
    },
    {
      "cell_type": "code",
      "execution_count": 2,
      "metadata": {
        "colab": {
          "base_uri": "https://localhost:8080/"
        },
        "id": "vMzbkFcacf4T",
        "outputId": "e24c71df-ad66-40b4-ef09-cf182dc676ad"
      },
      "outputs": [
        {
          "output_type": "stream",
          "name": "stdout",
          "text": [
            "T-statistic: -0.330016501237602\n",
            "P-value: 0.7475870246614912\n",
            "Fail to reject the null hypothesis.The mean is not significantly different from 10.\n"
          ]
        }
      ],
      "source": [
        "import scipy.stats as stats\n",
        "\n",
        "# Sample data\n",
        "sample_data = [11, 9, 10, 12, 8, 7, 13, 11, 10, 9, 8, 10]\n",
        "claimed_mean = 10\n",
        "\n",
        "# One-sample t-test\n",
        "t_stat, p_value = stats.ttest_1samp(sample_data, claimed_mean)\n",
        "\n",
        "print(f\"T-statistic: {t_stat}\")\n",
        "print(f\"P-value: {p_value}\")\n",
        "\n",
        "alpha=0.05\n",
        "if p_value<alpha:\n",
        "  print(\"Reject the null hypothesis.The mean is significantly different from 10.\")\n",
        "else:\n",
        "  print(\"Fail to reject the null hypothesis.The mean is not significantly different from 10.\")"
      ]
    },
    {
      "cell_type": "code",
      "source": [
        "# Data for the two groups\n",
        "group_a = [8500, 9000, 9200, 8800, 7600, 9500, 8900, 9100, 8400, 8600]\n",
        "group_b = [7800, 8200, 8500, 8000, 7900, 7400, 7700, 8100, 8300, 7600]\n",
        "\n",
        "# Two-sample independent t-test\n",
        "t_stat, p_value = stats.ttest_ind(group_a, group_b)\n",
        "\n",
        "print(f\"T-statistic: {t_stat}\")\n",
        "print(f\"P-value: {p_value}\")"
      ],
      "metadata": {
        "colab": {
          "base_uri": "https://localhost:8080/"
        },
        "id": "ZdBOSAKPdN1l",
        "outputId": "415b3c1f-cbc8-4e8e-d7ab-4364fabf1d04"
      },
      "execution_count": 3,
      "outputs": [
        {
          "output_type": "stream",
          "name": "stdout",
          "text": [
            "T-statistic: 4.09053812172041\n",
            "P-value: 0.0006865230380527405\n"
          ]
        }
      ]
    },
    {
      "cell_type": "code",
      "source": [
        "# Test scores before and after using the new study method\n",
        "before_method = [72, 68, 65, 78, 80, 70, 74, 68, 82, 76]\n",
        "after_method = [80, 75, 85, 88, 90, 78, 84, 80, 92, 86]\n",
        "\n",
        "# Paired t-test\n",
        "t_stat, p_value = stats.ttest_rel(after_method, before_method)\n",
        "\n",
        "print(f\"T-statistic: {t_stat}\")\n",
        "print(f\"P-value: {p_value}\")"
      ],
      "metadata": {
        "colab": {
          "base_uri": "https://localhost:8080/"
        },
        "id": "IVooMdhWd62V",
        "outputId": "9a16b97d-c124-4df7-9270-d83f1738a025"
      },
      "execution_count": 4,
      "outputs": [
        {
          "output_type": "stream",
          "name": "stdout",
          "text": [
            "T-statistic: 9.150638076942498\n",
            "P-value: 7.452437752288813e-06\n"
          ]
        }
      ]
    }
  ]
}